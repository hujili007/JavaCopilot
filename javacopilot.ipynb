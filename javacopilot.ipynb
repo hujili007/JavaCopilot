{
 "cells": [
  {
   "cell_type": "code",
   "execution_count": 1,
   "metadata": {},
   "outputs": [],
   "source": [
    "import os\n",
    "os.environ['HF_ENDPOINT'] = 'https://hf-mirror.com'"
   ]
  },
  {
   "cell_type": "code",
   "execution_count": 2,
   "metadata": {},
   "outputs": [
    {
     "name": "stderr",
     "output_type": "stream",
     "text": [
      "/home/hujili/.conda/envs/rag/lib/python3.10/site-packages/tqdm/auto.py:21: TqdmWarning: IProgress not found. Please update jupyter and ipywidgets. See https://ipywidgets.readthedocs.io/en/stable/user_install.html\n",
      "  from .autonotebook import tqdm as notebook_tqdm\n",
      "The model is automatically converting to bf16 for faster inference. If you want to disable the automatic precision, please manually add bf16/fp16/fp32=True to \"AutoModelForCausalLM.from_pretrained\".\n",
      "Try importing flash-attention for faster inference...\n",
      "Warning: import flash_attn rotary fail, please install FlashAttention rotary to get higher efficiency https://github.com/Dao-AILab/flash-attention/tree/main/csrc/rotary\n",
      "Warning: import flash_attn rms_norm fail, please install FlashAttention layer_norm to get higher efficiency https://github.com/Dao-AILab/flash-attention/tree/main/csrc/layer_norm\n",
      "Warning: import flash_attn fail, please install FlashAttention to get higher efficiency https://github.com/Dao-AILab/flash-attention\n",
      "Loading checkpoint shards: 100%|██████████| 8/8 [00:05<00:00,  1.44it/s]\n"
     ]
    }
   ],
   "source": [
    "# 使用huggingface库加载Qwen-7B-Chat模型 https://huggingface.co/Qwen/Qwen-7B-Chat\n",
    "from transformers import AutoModelForCausalLM, AutoTokenizer\n",
    "device = \"cuda\" # the device to load the model onto\n",
    "\n",
    "# Model names: \"Qwen/Qwen-7B-Chat\"\n",
    "tokenizer = AutoTokenizer.from_pretrained(\"Qwen/Qwen-7B-Chat\", trust_remote_code=True)\n",
    "model = AutoModelForCausalLM.from_pretrained(\n",
    "    \"Qwen/Qwen-7B-Chat\",\n",
    "    device_map=\"auto\",\n",
    "    trust_remote_code=True\n",
    ").eval()"
   ]
  },
  {
   "cell_type": "code",
   "execution_count": 3,
   "metadata": {},
   "outputs": [],
   "source": [
    "from llama_index import VectorStoreIndex, SimpleDirectoryReader\n",
    "from llama_index import ServiceContext\n",
    "from llama_index import LLMPredictor\n",
    "\n",
    "import torch\n",
    "from typing import Optional, List, Mapping, Any\n",
    "from transformers import pipeline\n",
    "from llama_index import ServiceContext, SimpleDirectoryReader, SummaryIndex\n",
    "from llama_index.callbacks import CallbackManager\n",
    "from llama_index.llms import (\n",
    "    CustomLLM,\n",
    "    CompletionResponse,\n",
    "    CompletionResponseGen,\n",
    "    LLMMetadata,\n",
    ")\n",
    "from llama_index.llms.base import llm_completion_callback\n",
    "from transformers import AutoModelForCausalLM, AutoTokenizer"
   ]
  },
  {
   "cell_type": "code",
   "execution_count": 4,
   "metadata": {},
   "outputs": [],
   "source": [
    "class OurLLM(CustomLLM):\n",
    "    context_window: int = 2048\n",
    "    num_output: int = 256\n",
    "    model_name: str = \"Qwen-7B-Chat\"\n",
    "    @property\n",
    "    def metadata(self) -> LLMMetadata:\n",
    "        \"\"\"Get LLM metadata.\"\"\"\n",
    "        return LLMMetadata(\n",
    "            context_window=self.context_window,\n",
    "            num_output=self.num_output,\n",
    "            model_name=self.model_name,\n",
    "        )\n",
    "\n",
    "    @llm_completion_callback()\n",
    "    def complete(self, prompt: str, **kwargs: Any) -> CompletionResponse:\n",
    "        prompt_length = len(prompt)\n",
    "\n",
    "        # only return newly generated tokens\n",
    "        text,_ = model.chat(tokenizer, prompt, history=[])\n",
    "        return CompletionResponse(text=text)\n",
    "\n",
    "    @llm_completion_callback()\n",
    "    def stream_complete(\n",
    "        self, prompt: str, **kwargs: Any\n",
    "    ) -> CompletionResponseGen:\n",
    "        raise NotImplementedError()"
   ]
  },
  {
   "cell_type": "code",
   "execution_count": 5,
   "metadata": {},
   "outputs": [],
   "source": [
    "from llama_index.embeddings import resolve_embed_model\n",
    "# 指定本地嵌入模型路径\n",
    "local_embed_model_path = \"/home/hujili/code/model/m3e-base\"\n",
    "# 解析本地嵌入模型\n",
    "embed_model = resolve_embed_model(f\"local:{local_embed_model_path}\")"
   ]
  },
  {
   "cell_type": "code",
   "execution_count": 6,
   "metadata": {},
   "outputs": [
    {
     "name": "stderr",
     "output_type": "stream",
     "text": [
      "[nltk_data] Downloading package punkt to /tmp/llama_index...\n",
      "[nltk_data]   Unzipping tokenizers/punkt.zip.\n"
     ]
    }
   ],
   "source": [
    "llm = OurLLM()\n",
    "service_context = ServiceContext.from_defaults(llm=llm,embed_model=embed_model)\n"
   ]
  },
  {
   "cell_type": "code",
   "execution_count": 8,
   "metadata": {},
   "outputs": [],
   "source": [
    "from llama_index import VectorStoreIndex, SimpleDirectoryReader\n",
    "\n",
    "documents = SimpleDirectoryReader(\"./data\").load_data()\n",
    "index = VectorStoreIndex.from_documents(documents,service_context=service_context)"
   ]
  },
  {
   "cell_type": "code",
   "execution_count": 9,
   "metadata": {},
   "outputs": [
    {
     "name": "stdout",
     "output_type": "stream",
     "text": [
      "Java泛型是一种功能强大的工具，它可以帮助我们创建更安全、可重用的代码。当我们声明一个类或者方法时，如果我们在参数或返回类型上使用了泛型，则在编译时JVM会强制检查该类型的正确性，避免了类型不匹配导致的运行时异常。另外，泛型还可以使我们的代码更加简洁和易于理解，因为我们在声明类型时并不需要每次都显式地指定具体的数据类型。Java泛型的主要优点包括提高了代码的复用率、减少了类型的错误和提高了代码的可读性。在上面的例子中，`CollectionTest1`类就是一个使用了泛型的例子，它创建了一个`HashSet`并添加了两个`Person`对象，其中`Person`是一个泛型类，可以接收任意类型的参数。\n"
     ]
    }
   ],
   "source": [
    "query_engine = index.as_query_engine()\n",
    "response = query_engine.query(\"Java泛型是什么？\")\n",
    "print(response)"
   ]
  },
  {
   "cell_type": "code",
   "execution_count": 10,
   "metadata": {},
   "outputs": [
    {
     "data": {
      "text/plain": [
       "Response(response=\"Java主要有以下几种基本数据类型：\\n1. byte：用于表示一个字节的数据，范围为-128到127。\\n2. short：用于表示一个短字节的数据，范围为-32768到32767。\\n3. int：用于表示一个整数的数据，范围为-2147483648到2147483647。\\n4. long：用于表示一个长整数的数据，范围为-9223372036854775808到9223372036854775807。\\n5. float：用于表示单精度浮点数的数据，范围为3.4e-45到3.4e+38。\\n6. double：用于表示双精度浮点数的数据，范围为1.7e-308到1.7e+308。\\n7. char：用于表示一个Unicode字符的数据，范围为'\\\\u0000'到'\\\\uffff'。\\n8. boolean：用于表示一个逻辑值的数据，只能取值true或false。\\n\\n除了上述的基本数据类型外，Java还有引用类型，包括类、接口、数组和字符串。它们是通过对象来操作的，并且可以存储任何类型的值。\", source_nodes=[NodeWithScore(node=TextNode(id_='981820b0-73ed-40f9-b554-795e3a6e1e29', embedding=None, metadata={'file_path': 'data/java.doc', 'creation_date': '2024-03-02', 'last_modified_date': '2024-03-02', 'last_accessed_date': '2024-03-02'}, excluded_embed_metadata_keys=['creation_date', 'last_modified_date', 'last_accessed_date'], excluded_llm_metadata_keys=['creation_date', 'last_modified_date', 'last_accessed_date'], relationships={<NodeRelationship.SOURCE: '1'>: RelatedNodeInfo(node_id='b952be9d-dcaa-492d-8d82-070f72e297d0', node_type=<ObjectType.DOCUMENT: '4'>, metadata={'file_path': 'data/java.doc', 'creation_date': '2024-03-02', 'last_modified_date': '2024-03-02', 'last_accessed_date': '2024-03-02'}, hash='fce7f719c145c4c5330bde3d5de6c924bf2648f837647cb280a729b1d5d75982'), <NodeRelationship.PREVIOUS: '2'>: RelatedNodeInfo(node_id='20dcfbd7-4992-4451-a8b0-79efaaafce59', node_type=<ObjectType.TEXT: '1'>, metadata={'file_path': 'data/java.doc', 'creation_date': '2024-03-02', 'last_modified_date': '2024-03-02', 'last_accessed_date': '2024-03-02'}, hash='638a382ca0668cbfee7e80ff472d412abdd0a70544d9c89fbd8dfb766bc88a1d'), <NodeRelationship.NEXT: '3'>: RelatedNodeInfo(node_id='338de198-36d3-4b5a-85cb-15b507418032', node_type=<ObjectType.TEXT: '1'>, metadata={'file_path': 'data/java.doc', 'creation_date': '2024-03-02', 'last_modified_date': '2024-03-02', 'last_accessed_date': '2024-03-02'}, hash='396b62936b88b38fbbda6391b0cc3292e2805af94fafab6868f9ab321621feb2')}, hash='6a680036d3730ee8f8cf197307eb24e638c42553adbdf934a39b7fc0ea7810f0', text='\\x00\\x00\\x00 \\x00}\\x00\\n\\x00\\x00\\x00p\\x00u\\x00b\\x00l\\x00i\\x00c\\x00 \\x00S\\x00t\\x00r\\x00i\\x00n\\x00g\\x00g\\x00e\\x00t\\x00N\\x00a\\x00m\\x00e\\x00(\\x00)\\x00 \\x00{\\x00\\x00\\x00 \\x00r\\x00e\\x00t\\x00u\\x00r\\x00n\\x00 \\x00n\\x00a\\x00m\\x00e\\x00;\\x00\\x00 \\x00}\\x00\\n\\x00\\x00\\x00p\\x00u\\x00b\\x00l\\x00i\\x00c\\x00 \\x00v\\x00o\\x00i\\x00d\\x00s\\x00e\\x00t\\x00I\\x00d\\x00 \\x00(\\x00i\\x00n\\x00t\\x00 \\x00i\\x00d\\x00)\\x00 \\x00{\\x00\\n\\x00\\x00\\x00\\x00\\x00\\x00\\x00\\x00\\x00\\x00t\\x00h\\x00i\\x00s\\x00.\\x00 \\x00i\\x00d\\x00=\\x00 \\x00i\\x00d\\x00;\\x00\\n\\x00\\x00\\x00}\\x00\\n\\x00\\x00\\x00p\\x00u\\x00b\\x00l\\x00i\\x00c\\x00 \\x00v\\x00o\\x00i\\x00d\\x00s\\x00e\\x00t\\x00N\\x00a\\x00m\\x00e\\x00 \\x00(\\x00S\\x00t\\x00r\\x00i\\x00n\\x00g\\x00 \\x00n\\x00a\\x00m\\x00e\\x00)\\x00 \\x00{\\x00\\n\\x00\\x00\\x00\\x00\\x00\\x00\\x00\\x00\\x00\\x00t\\x00h\\x00i\\x00s\\x00.\\x00n\\x00a\\x00m\\x00e\\x00 \\x00=\\x00 \\x00n\\x00a\\x00m\\x00e\\x00;\\x00\\n\\x00\\x00\\x00}\\x00\\n\\x00\\x00\\x00p\\x00u\\x00b\\x00l\\x00i\\x00c\\x00 \\x00S\\x00t\\x00r\\x00i\\x00n\\x00g\\x00t\\x00o\\x00S\\x00t\\x00r\\x00i\\x00n\\x00g\\x00(\\x00)\\x00 \\x00{\\x00\\n\\x00\\x00\\x00\\x00\\x00\\x00\\x00\\x00\\x00\\x00r\\x00e\\x00t\\x00u\\x00r\\x00n\\x00 \\x00\\x1c i\\x00d\\x00:\\x00 \\x00\\x1d  \\x00+\\x00 \\x00i\\x00d\\x00 \\x00+\\x00 \\x00\\x1c |\\x00n\\x00a\\x00m\\x00e\\x00:\\x00 \\x00\\x1d  \\x00+\\x00 \\x00n\\x00a\\x00m\\x00e\\x00;\\x00\\n\\x00\\x00\\x00}\\x00\\n\\x00}\\x00\\n\\x00=\\x00=\\x00=\\x00=\\x00=\\x00=\\x00=\\x00=\\x00=\\x00=\\x00=\\x00=\\x00=\\x00=\\x00=\\x00=\\x00=\\x00=\\x00=\\x00=\\x00=\\x00=\\x00=\\x00=\\x00=\\x00=\\x00=\\x00=\\x00=\\x00=\\x00=\\x00=\\x00=\\x00=\\x00=\\x00=\\x00=\\x00=\\x00=\\x00=\\x00=\\x00=\\x00=\\x00=\\x00=\\x00=\\x00=\\x00=\\x00=\\x00=\\x00=\\x00=\\x00=\\x00=\\x00=\\x00=\\x00=\\x00=\\x00=\\x00=\\x00=\\x00=\\x00=\\x00=\\x00=\\x00=\\x00=\\x00=\\x00=\\x00=\\x00=\\x00=\\x00\\n\\x00i\\x00m\\x00p\\x00o\\x00r\\x00t\\x00 \\x00j\\x00a\\x00v\\x00a\\x00.\\x00u\\x00t\\x00i\\x00l\\x00.\\x00*\\x00;\\x00\\n\\x00p\\x00u\\x00b\\x00l\\x00i\\x00c\\x00 \\x00c\\x00l\\x00a\\x00s\\x00s\\x00 \\x00C\\x00o\\x00l\\x00l\\x00e\\x00c\\x00t\\x00i\\x00o\\x00n\\x00T\\x00e\\x00s\\x00t\\x001\\x00 \\x00{\\x00\\n\\x00\\x00\\x00p\\x00u\\x00b\\x00l\\x00i\\x00c\\x00 \\x00s\\x00t\\x00a\\x00t\\x00i\\x00c\\x00v\\x00o\\x00i\\x00d\\x00 \\x00m\\x00a\\x00i\\x00n\\x00 \\x00(\\x00S\\x00t\\x00r\\x00i\\x00n\\x00g\\x00[\\x00]\\x00 \\x00a\\x00r\\x00g\\x00s\\x00)\\x00 \\x00{\\x00\\n\\x00\\x00\\x00\\x00\\x00\\x00\\x00\\x00\\x00\\x00C\\x00o\\x00l\\x00l\\x00e\\x00c\\x00t\\x00i\\x00o\\x00n\\x00c\\x00 \\x00=\\x00 \\x00n\\x00e\\x00w\\x00 \\x00H\\x00a\\x00s\\x00h\\x00S\\x00e\\x00t\\x00(\\x00)\\x00;\\x00\\n\\x00\\x00\\x00\\x00\\x00\\x00\\x00\\x00\\x00\\x00c\\x00.\\x00 \\x00a\\x00d\\x00d\\x00(\\x00n\\x00e\\x00w\\x00 \\x00P\\x00e\\x00r\\x00s\\x00o\\x00n\\x00(\\x001\\x00,\\x00 \\x00\\x1c c\\x00+\\x00+\\x00\"\\x00)\\x00)\\x00;\\x00\\n\\x00\\x00\\x00\\x00\\x00\\x00\\x00\\x00\\x00\\x00c\\x00.\\x00 \\x00a\\x00d\\x00d\\x00(\\x00n\\x00e\\x00w\\x00 \\x00P\\x00e\\x00r\\x00s\\x00o\\x00n\\x00(\\x002\\x00,\\x00 \\x00\\x1c j\\x00a\\x00v\\x00a\\x00\"\\x00)\\x00)\\x00;', start_char_idx=None, end_char_idx=None, text_template='{metadata_str}\\n\\n{content}', metadata_template='{key}: {value}', metadata_seperator='\\n'), score=0.8562860701799886), NodeWithScore(node=TextNode(id_='40054756-09f2-4900-9290-1b4bb7689d33', embedding=None, metadata={'file_path': 'data/java.doc', 'creation_date': '2024-03-02', 'last_modified_date': '2024-03-02', 'last_accessed_date': '2024-03-02'}, excluded_embed_metadata_keys=['creation_date', 'last_modified_date', 'last_accessed_date'], excluded_llm_metadata_keys=['creation_date', 'last_modified_date', 'last_accessed_date'], relationships={<NodeRelationship.SOURCE: '1'>: RelatedNodeInfo(node_id='b952be9d-dcaa-492d-8d82-070f72e297d0', node_type=<ObjectType.DOCUMENT: '4'>, metadata={'file_path': 'data/java.doc', 'creation_date': '2024-03-02', 'last_modified_date': '2024-03-02', 'last_accessed_date': '2024-03-02'}, hash='fce7f719c145c4c5330bde3d5de6c924bf2648f837647cb280a729b1d5d75982'), <NodeRelationship.PREVIOUS: '2'>: RelatedNodeInfo(node_id='146d801e-8bef-47dd-8ada-147d463e451b', node_type=<ObjectType.TEXT: '1'>, metadata={'file_path': 'data/java.doc', 'creation_date': '2024-03-02', 'last_modified_date': '2024-03-02', 'last_accessed_date': '2024-03-02'}, hash='ceae369f37d16f1c9ec627910bb9d6a79f0e3068629726f6156a513eec47a4e7'), <NodeRelationship.NEXT: '3'>: RelatedNodeInfo(node_id='8324cde3-bc93-4094-990b-dfb881ae9be6', node_type=<ObjectType.TEXT: '1'>, metadata={'file_path': 'data/java.doc', 'creation_date': '2024-03-02', 'last_modified_date': '2024-03-02', 'last_accessed_date': '2024-03-02'}, hash='34320516e96d36064cfa9b910a059744b6ae938662c6bd6d47bfd392cd34b58a')}, hash='e6d13f35005ac177e245e1bec78097921176d9bc8812113240f3b50757f384ca', text='\\x00i\\x00o\\x00.\\x00*\\x00;\\x00\\n\\x00p\\x00u\\x00b\\x00l\\x00i\\x00c\\x00 \\x00c\\x00l\\x00a\\x00s\\x00s\\x00 \\x00D\\x00a\\x00t\\x00a\\x00s\\x00t\\x00r\\x00e\\x00a\\x00m\\x00\\n\\x00{\\x00\\n\\x00 \\x00 \\x00 \\x00 \\x00p\\x00u\\x00b\\x00l\\x00i\\x00c\\x00 \\x00s\\x00t\\x00a\\x00t\\x00i\\x00c\\x00 \\x00v\\x00o\\x00i\\x00d\\x00 \\x00m\\x00a\\x00i\\x00n\\x00(\\x00S\\x00t\\x00r\\x00i\\x00n\\x00g\\x00 \\x00a\\x00r\\x00g\\x00[\\x00]\\x00)\\x00\\n\\x00 \\x00 \\x00 \\x00 \\x00{\\x00\\n\\x00 \\x00 \\x00 \\x00 \\x00 \\x00 \\x00 \\x00 \\x00S\\x00t\\x00r\\x00i\\x00n\\x00g\\x00 \\x00f\\x00n\\x00a\\x00m\\x00e\\x00 \\x00=\\x00 \\x00\"\\x00s\\x00t\\x00u\\x00d\\x00e\\x00n\\x00t\\x001\\x00.\\x00d\\x00a\\x00t\\x00\"\\x00;\\x00\\n\\x00 \\x00 \\x00 \\x00 \\x00 \\x00 \\x00 \\x00 \\x00n\\x00e\\x00w\\x00 \\x00S\\x00t\\x00u\\x00d\\x00e\\x00n\\x00t\\x001\\x00(\\x00\"\\x00W\\x00a\\x00n\\x00g\\x00\"\\x00)\\x00.\\x00s\\x00a\\x00v\\x00e\\x00(\\x00f\\x00n\\x00a\\x00m\\x00e\\x00)\\x00;\\x00\\n\\x00 \\x00 \\x00 \\x00 \\x00 \\x00 \\x00 \\x00 \\x00n\\x00e\\x00w\\x00 \\x00S\\x00t\\x00u\\x00d\\x00e\\x00n\\x00t\\x001\\x00(\\x00\"\\x00L\\x00i\\x00\"\\x00)\\x00.\\x00s\\x00a\\x00v\\x00e\\x00(\\x00f\\x00n\\x00a\\x00m\\x00e\\x00)\\x00;\\x00\\n\\x00 \\x00 \\x00 \\x00 \\x00 \\x00 \\x00 \\x00 \\x00S\\x00t\\x00u\\x00d\\x00e\\x00n\\x00t\\x001\\x00.\\x00d\\x00i\\x00s\\x00p\\x00l\\x00a\\x00y\\x00(\\x00f\\x00n\\x00a\\x00m\\x00e\\x00)\\x00;\\x00\\n\\x00 \\x00 \\x00 \\x00 \\x00}\\x00\\n\\x00}\\x00 \\x00 \\x00 \\x00 \\x00\\n\\x00c\\x00l\\x00a\\x00s\\x00s\\x00 \\x00S\\x00t\\x00u\\x00d\\x00e\\x00n\\x00t\\x001\\x00 \\x00\\n\\x00{\\x00\\n\\x00 \\x00 \\x00 \\x00 \\x00s\\x00t\\x00a\\x00t\\x00i\\x00c\\x00 \\x00i\\x00n\\x00t\\x00 \\x00c\\x00o\\x00u\\x00n\\x00t\\x00=\\x000\\x00;\\x00\\n\\x00 \\x00 \\x00 \\x00 \\x00i\\x00n\\x00t\\x00 \\x00n\\x00u\\x00m\\x00b\\x00e\\x00r\\x00=\\x001\\x00;\\x00\\n\\x00 \\x00 \\x00 \\x00 \\x00S\\x00t\\x00r\\x00i\\x00n\\x00g\\x00 \\x00n\\x00a\\x00m\\x00e\\x00;\\x00\\n\\x00 \\x00 \\x00 \\x00 \\x00S\\x00t\\x00u\\x00d\\x00e\\x00n\\x00t\\x001\\x00(\\x00S\\x00t\\x00r\\x00i\\x00n\\x00g\\x00 \\x00n\\x001\\x00)\\x00\\n\\x00 \\x00 \\x00 \\x00 \\x00{\\x00\\n\\x00 \\x00 \\x00 \\x00 \\x00 \\x00 \\x00 \\x00 \\x00t\\x00h\\x00i\\x00s\\x00.\\x00c\\x00o\\x00u\\x00n\\x00t\\x00+\\x00+\\x00;\\x00 \\x00 \\x00 \\x00 \\x00 \\x00 \\x00 \\x00 \\x00 \\x00 \\x00 \\x00 \\x00 \\x00 \\x00 \\x00 \\x00 \\x00 \\x00 \\x00 \\x00 \\x00 \\x00 \\x00 \\x00/\\x00/\\x00\\x16\\x7fSꁨRR1\\x00\\n\\x00 \\x00 \\x00 \\x00 \\x00 \\x00 \\x00 \\x00 \\x00t\\x00h\\x00i\\x00s\\x00.\\x00n\\x00u\\x00m\\x00b\\x00e\\x00r\\x00 \\x00=\\x00 \\x00t\\x00h\\x00i\\x00s\\x00.\\x00c\\x00o\\x00u\\x00n\\x00t\\x00;\\x00\\n\\x00 \\x00 \\x00 \\x00 \\x00 \\x00 \\x00 \\x00 \\x00t\\x00h\\x00i\\x00s\\x00.\\x00n\\x00a\\x00m\\x00e\\x00 \\x00=\\x00 \\x00n\\x001\\x00;\\x00\\n\\x00 \\x00 \\x00 \\x00 \\x00}\\x00\\n\\x00 \\x00 \\x00 \\x00 \\x00S\\x00t\\x00u\\x00d\\x00e\\x00n\\x00t\\x001\\x00(\\x00)\\x00\\n\\x00 \\x00 \\x00 \\x00 \\x00{\\x00\\n\\x00 \\x00 \\x00 \\x00 \\x00 \\x00 \\x00 \\x00 \\x00t\\x00h\\x00i\\x00s\\x00(\\x00\"\\x00\"\\x00)\\x00;', start_char_idx=None, end_char_idx=None, text_template='{metadata_str}\\n\\n{content}', metadata_template='{key}: {value}', metadata_seperator='\\n'), score=0.8519681083638447), NodeWithScore(node=TextNode(id_='a1f35ea8-901f-48a8-b3ca-52d5acc834b9', embedding=None, metadata={'file_path': 'data/java.doc', 'creation_date': '2024-03-02', 'last_modified_date': '2024-03-02', 'last_accessed_date': '2024-03-02'}, excluded_embed_metadata_keys=['creation_date', 'last_modified_date', 'last_accessed_date'], excluded_llm_metadata_keys=['creation_date', 'last_modified_date', 'last_accessed_date'], relationships={<NodeRelationship.SOURCE: '1'>: RelatedNodeInfo(node_id='b952be9d-dcaa-492d-8d82-070f72e297d0', node_type=<ObjectType.DOCUMENT: '4'>, metadata={'file_path': 'data/java.doc', 'creation_date': '2024-03-02', 'last_modified_date': '2024-03-02', 'last_accessed_date': '2024-03-02'}, hash='fce7f719c145c4c5330bde3d5de6c924bf2648f837647cb280a729b1d5d75982'), <NodeRelationship.PREVIOUS: '2'>: RelatedNodeInfo(node_id='233dd5e1-7967-4420-9098-be017c524a97', node_type=<ObjectType.TEXT: '1'>, metadata={'file_path': 'data/java.doc', 'creation_date': '2024-03-02', 'last_modified_date': '2024-03-02', 'last_accessed_date': '2024-03-02'}, hash='7a5d277398ad9f17a07c26ef40a1fd4f44838865ee7daa18d8c89c6893c4a50b'), <NodeRelationship.NEXT: '3'>: RelatedNodeInfo(node_id='3225c1ff-534c-4968-a4a9-5b80674ff670', node_type=<ObjectType.TEXT: '1'>, metadata={'file_path': 'data/java.doc', 'creation_date': '2024-03-02', 'last_modified_date': '2024-03-02', 'last_accessed_date': '2024-03-02'}, hash='c6e2dd9c9ee1c3260e20943323f6c4882e495b00c5f52430ecb30861c65e47b2')}, hash='c4f37c8edf3766b13205cb914655280a6e81891345cced888460cee396203f8a', text='\\x00\\x00\\x00\\x1e\\x00\\x00\\x00\\n\\x00\\x00\\x00!\\x00\\x00\\x00\\x14\\x00\\x00\\x00!\\x00\\x06\\x00\\x00\\x00\\x1f\\x00\\x00\\x00\\x01\\x00\\x00\\x00\\x1d\\x00\\x00\\x00\\x02\\x00\\x00\\x00\\x1c\\x00\\x00\\x00\\x17\\x00\\x00\\x00\\x18\\x00\\x00\\x00 \\x00\\x00\\x00\\x1e\\x00\\x00\\x00\\x10\\x00\\x00\\x00!\\x00\\x00\\x00\\x14\\x00\\x00\\x00!\\x00\\x06\\x00\\x00\\x00\\x1f\\x00\\x00\\x00\\x01\\x00\\x00\\x00\\x1d\\x00\\x00\\x00\\x02\\x00\\x00\\x00\\x1c\\x00\\x00\\x00\\x17\\x00\\x00\\x00\\x18\\x00\\x00\\x00 \\x00\\x00\\x00\\x1e\\x00\\x00\\x00\\x11\\x00\\x00\\x00!\\x00\\x00\\x00\\x14\\x00\\x00\\x00!\\x00\\x06\\x00\\x00\\x00\\x1f\\x00\\x00\\x00\\x01\\x00\\x00\\x00\\x1d\\x00\\x00\\x00\\x02\\x00\\x00\\x00\\x1c\\x00\\x00\\x00\\x17\\x00\\x00\\x00\\x18\\x00\\x00\\x00 \\x00\\x00\\x00\\x1e\\x00\\x00\\x00\\x12\\x00\\x00\\x00!\\x00\\x00\\x00\\x14\\x00\\x00\\x00\\x1a\\x00\\x05\\x00\\x00\\x00\"\\x00\\x00\\x00\\x08\\x00\\x00\\x00\\x1b\\x00\\x00\\x00\\t\\x00\\x00\\x00\\x15\\x00\\x00\\x00\\x05\\x00\\x00\\x00\\x19\\x00\\x00\\x00\\x17\\x00\\x00\\x00\\x1a\\x00\\x00\\x00\\x17\\x00\\x00\\x00!\\x00\\x06\\x00\\x00\\x00!\\x00\\x00\\x00\\x14\\x00\\x00\\x00\\x1e\\x00\\x00\\x00\\x10\\x00\\x00\\x00\\x18\\x00\\x00\\x00 \\x00\\x00\\x00\\x1c\\x00\\x00\\x00\\x17\\x00\\x00\\x00\\x1d\\x00\\x00\\x00\\x02\\x00\\x00\\x00\\x1f\\x00\\x00\\x00\\x01\\x00\\x00\\x00!\\x00\\x06\\x00\\x00\\x00!\\x00\\x00\\x00\\x14\\x00\\x00\\x00\\x1e\\x00\\x00\\x00\\x11\\x00\\x00\\x00\\x18\\x00\\x00\\x00 \\x00\\x00\\x00\\x1c\\x00\\x00\\x00\\x17\\x00\\x00\\x00\\x1d\\x00\\x00\\x00\\x02\\x00\\x00\\x00\\x1f\\x00\\x00\\x00\\x01\\x00\\x00\\x00!\\x00\\x06\\x00\\x00\\x00!\\x00\\x00\\x00\\x14\\x00\\x00\\x00\\x1e\\x00\\x00\\x00\\x12\\x00\\x00\\x00\\x18\\x00\\x00\\x00 \\x00\\x00\\x00\\x1c\\x00\\x00\\x00\\x17\\x00\\x00\\x00\\x1d\\x00\\x00\\x00\\x02\\x00\\x00\\x00\\x1f\\x00\\x00\\x00\\x01\\x00\\x00\\x00!\\x00\\x06\\x00\\x00\\x00!\\x00\\x00\\x00\\x14\\x00\\x00\\x00\\x1e\\x00\\x00\\x00\\x13\\x00\\x00\\x00\\x18\\x00\\x00\\x00 \\x00\\x00\\x00\\x1c\\x00\\x00\\x00\\x17\\x00\\x00\\x00\\x1d\\x00\\x00\\x00\\x02\\x00\\x00\\x00\\x1f\\x00\\x00\\x00\\x01\\x00\\x00\\x00!\\x00\\x06\\x00\\x00\\x00!\\x00\\x00\\x00\\x14\\x00\\x00\\x00\\x1e\\x00\\x00\\x00\\x02\\x00\\x00\\x00\\x18\\x00\\x00\\x00 \\x00\\x00\\x00\\x1c\\x00\\x00\\x00\\x17\\x00\\x00\\x00\\x1d\\x00\\x00\\x00\\x02\\x00\\x00\\x00\\x1f\\x00\\x00\\x00\\x01\\x00\\x00\\x00!\\x00\\x06\\x00\\x00\\x00!\\x00\\x00\\x00\\x14\\x00\\x00\\x00\\x1e\\x00\\x00\\x00\\x02\\x00\\x00\\x00\\x18\\x00\\x00\\x00 \\x00\\x00\\x00\\x1c\\x00\\x00\\x00\\x17\\x00\\x00\\x00\\x1d\\x00\\x00\\x00\\x02\\x00\\x00\\x00\\x1f\\x00\\x00\\x00\\x01\\x00\\x00\\x00!\\x00\\x06\\x00\\x00\\x00!\\x00\\x00\\x00\\x14\\x00\\x00\\x00\\x1e\\x00\\x00\\x00\\x02\\x00\\x00\\x00\\x18\\x00\\x00\\x00 \\x00\\x00\\x00\\x1c\\x00\\x00\\x00\\x17\\x00\\x00\\x00\\x1d\\x00\\x00\\x00\\x02\\x00\\x00\\x00\\x1f\\x00\\x00\\x00\\x01\\x00\\x00\\x00!\\x00\\x06\\x00\\x00\\x00!\\x00\\x00\\x00\\x14\\x00\\x00\\x00\\x1e\\x00\\x00\\x00\\x02\\x00\\x00\\x00\\x18\\x00\\x00\\x00 \\x00\\x00\\x00\\x1c\\x00\\x00\\x00\\x17\\x00\\x00\\x00\\x1d\\x00\\x00\\x00\\x02\\x00\\x00\\x00\\x1f\\x00\\x00\\x00\\x01\\x00\\x00\\x00!\\x00\\x06\\x00\\x00\\x00!\\x00\\x00\\x00\\x14\\x00\\x00\\x00\\x1e\\x00\\x00\\x00\\x02\\x00\\x00\\x00\\x18\\x00\\x00\\x00 \\x00\\x00\\x00\\x1c\\x00\\x00\\x00\\x17\\x00\\x00\\x00\\x1d\\x00\\x00\\x00\\x02\\x00\\x00\\x00\\x1f\\x00\\x00\\x00\\x01\\x00\\x00\\x00!\\x00\\x06\\x00\\x00\\x00!\\x00\\x00\\x00\\x14\\x00\\x00\\x00\\x1e\\x00\\x00\\x00\\x02\\x00\\x00\\x00\\x18\\x00\\x00\\x00 \\x00\\x00\\x00\\x1c\\x00\\x00\\x00\\x17\\x00\\x00\\x00\\x1d\\x00\\x00\\x00\\x02\\x00\\x00\\x00\\x1f\\x00\\x00\\x00\\x01\\x00\\x00\\x00!\\x00\\x06\\x00\\x00\\x00!\\x00\\x00\\x00\\x14\\x00\\x00\\x00\\x1e\\x00\\x00\\x00\\x02\\x00\\x00\\x00\\x18\\x00\\x00\\x00 \\x00\\x00\\x00\\x1c\\x00\\x00\\x00\\x17\\x00\\x00\\x00\\x1d\\x00\\x00\\x00\\x02\\x00\\x00\\x00\\x1f\\x00\\x00\\x00\\x01\\x00\\x00\\x00!\\x00\\x06\\x00\\x00\\x00!\\x00\\x00\\x00\\x14\\x00\\x00\\x00\\x1e\\x00\\x00\\x00\\x02\\x00\\x00\\x00\\x18\\x00\\x00\\x00 \\x00\\x00\\x00\\x1c\\x00\\x00\\x00\\x17\\x00\\x00\\x00\\x1d\\x00\\x00\\x00\\x02\\x00\\x00\\x00\\x1f\\x00\\x00\\x00\\x01\\x00\\x00\\x00!\\x00\\x06\\x00\\x00\\x00!\\x00\\x00\\x00\\x14\\x00\\x00\\x00\\x1e\\x00\\x00\\x00\\x02\\x00\\x00\\x00\\x18\\x00\\x00\\x00 \\x00\\x00\\x00\\x1c\\x00\\x00\\x00\\x17\\x00\\x00\\x00\\x1d\\x00\\x00\\x00\\x02\\x00\\x00\\x00\\x1f\\x00\\x00\\x00\\x01\\x00\\x00\\x00!\\x00\\x06\\x00\\x00\\x00!\\x00\\x00\\x00\\x14\\x00\\x00\\x00\\x1e\\x00\\x00\\x00\\x02\\x00\\x00\\x00\\x18\\x00\\x00\\x00', start_char_idx=None, end_char_idx=None, text_template='{metadata_str}\\n\\n{content}', metadata_template='{key}: {value}', metadata_seperator='\\n'), score=0.8508965613103892)], metadata={'981820b0-73ed-40f9-b554-795e3a6e1e29': {'file_path': 'data/java.doc', 'creation_date': '2024-03-02', 'last_modified_date': '2024-03-02', 'last_accessed_date': '2024-03-02'}, '40054756-09f2-4900-9290-1b4bb7689d33': {'file_path': 'data/java.doc', 'creation_date': '2024-03-02', 'last_modified_date': '2024-03-02', 'last_accessed_date': '2024-03-02'}, 'a1f35ea8-901f-48a8-b3ca-52d5acc834b9': {'file_path': 'data/java.doc', 'creation_date': '2024-03-02', 'last_modified_date': '2024-03-02', 'last_accessed_date': '2024-03-02'}})"
      ]
     },
     "execution_count": 10,
     "metadata": {},
     "output_type": "execute_result"
    }
   ],
   "source": [
    "from llama_index.query_engine import RetrieverQueryEngine\n",
    "\n",
    "#构建查询引擎\n",
    "base_retriever = index.as_retriever(similarity_top_k=3)\n",
    "query_engine2 = RetrieverQueryEngine.from_args(base_retriever, service_context=service_context)\n",
    "query_engine2.query(\"Java数据类型有哪些？\")"
   ]
  }
 ],
 "metadata": {
  "kernelspec": {
   "display_name": "javarag",
   "language": "python",
   "name": "python3"
  },
  "language_info": {
   "codemirror_mode": {
    "name": "ipython",
    "version": 3
   },
   "file_extension": ".py",
   "mimetype": "text/x-python",
   "name": "python",
   "nbconvert_exporter": "python",
   "pygments_lexer": "ipython3",
   "version": "3.10.13"
  }
 },
 "nbformat": 4,
 "nbformat_minor": 2
}
